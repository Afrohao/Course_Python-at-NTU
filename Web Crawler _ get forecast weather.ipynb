{
 "cells": [
  {
   "cell_type": "code",
   "execution_count": null,
   "metadata": {},
   "outputs": [
    {
     "name": "stdout",
     "output_type": "stream",
     "text": [
      "城市代碼 1: 札幌 2: 仙台 3: 東京 4: 大阪  5: 福岡\n",
      "請輸入欲查詢城市之代碼:\n",
      "1\n",
      "札幌 的天氣是：\n",
      "日期 : 2020-01-26\n",
      "今日的天氣是曇時々晴\n",
      " \n",
      "日期 : 2020-01-27\n",
      "明日的天氣是晴時々曇\n",
      " \n",
      "日期 : 2020-01-28\n",
      "明後日的天氣是晴時々曇\n",
      " \n",
      "城市代碼 1: 札幌 2: 仙台 3: 東京 4: 大阪  5: 福岡\n",
      "請輸入欲查詢城市之代碼:\n",
      "3\n",
      "東京 的天氣是：\n",
      "日期 : 2020-01-26\n",
      "今日的天氣是雨のち曇\n",
      " \n",
      "日期 : 2020-01-27\n",
      "明日的天氣是曇のち雪\n",
      " \n",
      "日期 : 2020-01-28\n",
      "明後日的天氣是曇時々雨\n",
      " \n",
      "城市代碼 1: 札幌 2: 仙台 3: 東京 4: 大阪  5: 福岡\n",
      "請輸入欲查詢城市之代碼:\n"
     ]
    }
   ],
   "source": [
    "import requests\n",
    "api_url = 'http://weather.livedoor.com/forecast/webservice/json/v1'\n",
    "Sapporo={'city' : '016010'}\n",
    "Sendai={'city' : '040010'}\n",
    "Tokyo={'city' : '130010'}\n",
    "Osaka={'city' : '270000'}\n",
    "Fukuoka={'city' : '400010'}\n",
    "\n",
    "S='札幌'\n",
    "Se='仙台'\n",
    "T='東京'\n",
    "O='大阪'\n",
    "F='福岡'\n",
    "\n",
    "city_list=[Sapporo, Sendai, Tokyo, Osaka, Fukuoka]\n",
    "city=[S, Se, T, O, F]\n",
    "\n",
    "while 1:\n",
    "    print('城市代碼','1: 札幌','2: 仙台','3: 東京','4: 大阪 ','5: 福岡')\n",
    "    print('請輸入欲查詢城市之代碼:')\n",
    "    index=eval(input())\n",
    "    weather_data = requests.get(api_url, params = city_list[index-1]).json()\n",
    "    print(city[index-1],'的天氣是：')\n",
    "    for weather in weather_data['forecasts']:\n",
    "        print('日期 : '+ weather['date'])\n",
    "        print(weather['dateLabel'] + '的天氣是' + weather['telop'])\n",
    "        print(' ')\n"
   ]
  }
 ],
 "metadata": {
  "kernelspec": {
   "display_name": "Python 3",
   "language": "python",
   "name": "python3"
  },
  "language_info": {
   "codemirror_mode": {
    "name": "ipython",
    "version": 3
   },
   "file_extension": ".py",
   "mimetype": "text/x-python",
   "name": "python",
   "nbconvert_exporter": "python",
   "pygments_lexer": "ipython3",
   "version": "3.7.1"
  }
 },
 "nbformat": 4,
 "nbformat_minor": 2
}
