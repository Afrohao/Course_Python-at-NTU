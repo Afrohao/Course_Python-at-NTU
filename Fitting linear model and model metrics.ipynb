{
 "cells": [
  {
   "cell_type": "code",
   "execution_count": 2,
   "metadata": {},
   "outputs": [
    {
     "name": "stdout",
     "output_type": "stream",
     "text": [
      "\n",
      "********** Data Preprocessing ***********\n",
      "Features Dictionary Contains:\n",
      "7 Interval, \n",
      "0 Binary, \n",
      "3 Nominal, and \n",
      "1 Excluded Attribute(s).\n",
      "\n",
      "Data contains 53940 observations & 11 columns.\n",
      "\n",
      "\n",
      "Attribute Counts\n",
      ".............. Missing  Outliers\n",
      "obs......         0         0\n",
      "price....         0         0\n",
      "Carat....      5467         0\n",
      "cut......      2664         0\n",
      "color....      1571         0\n",
      "clarity..      1689         0\n",
      "depth....      1653         0\n",
      "table....      1600         0\n",
      "x........      1598         0\n",
      "y........      1636         0\n",
      "z........      1639         0\n"
     ]
    }
   ],
   "source": [
    "import pandas as pd\n",
    "import numpy as np\n",
    "from sklearn.linear_model import LinearRegression\n",
    "from sklearn.model_selection import train_test_split\n",
    "from AdvancedAnalytics import ReplaceImputeEncode\n",
    "from AdvancedAnalytics import linreg\n",
    "\n",
    "# Import data\n",
    "df = pd.read_excel(\"diamondswmissing.xlsx\")\n",
    "\n",
    "# data map\n",
    "attribute_map = {\n",
    "        'obs':['Z', (1, 53940)],\n",
    "        'price':['I', (300, 20000)],\n",
    "        'Carat':['I',(0.2, 5.5)],\n",
    "        'cut':['N',('Fair', 'Good', 'Ideal', 'Premium', 'Very Good')],\n",
    "        'color':['N',('D', 'E', 'F', 'G', 'H', 'I', 'J')],\n",
    "        'clarity':['N',('I1', 'IF', 'SI1', 'SI2', 'VS1', 'VS2', 'VVS1', 'VVS2')],\n",
    "        'depth':['I',(40, 80)],\n",
    "        'table':['I',(40, 100)],\n",
    "        'x':['I', (0, 11)],\n",
    "        'y':['I', (0, 60)],\n",
    "        'z':['I', (0, 32)] }\n",
    "\n",
    "# Data processing\n",
    "rie = ReplaceImputeEncode(data_map=attribute_map, nominal_encoding='one-hot', drop=True, display=True)\n",
    "encoded_df = rie.fit_transform(df)"
   ]
  },
  {
   "cell_type": "code",
   "execution_count": 5,
   "metadata": {},
   "outputs": [
    {
     "name": "stdout",
     "output_type": "stream",
     "text": [
      "\n",
      "Coefficients\n",
      "\n",
      "Coefficients\n",
      "Intercept....    -13294.7538\n",
      "Carat........      4047.4140\n",
      "depth........        31.5710\n",
      "table........        -6.8453\n",
      "x............      1215.1382\n",
      "y............       454.2805\n",
      "z............       699.3032\n",
      "cut0:Fair....      -848.8220\n",
      "cut1:Good....      -223.1203\n",
      "cut2:Idea....        85.2326\n",
      "cut3:Prem....        50.7288\n",
      "color0:D.....      1956.7262\n",
      "color1:E.....      1758.3650\n",
      "color2:F.....      1662.0746\n",
      "color3:G.....      1506.5253\n",
      "color4:H.....      1147.6238\n",
      "color5:I.....       821.4714\n",
      "clarity0:I1..     -4643.2929\n",
      "clarity1:IF..       473.1229\n",
      "clarity2:SI1.     -1428.4793\n",
      "clarity3:SI2.     -2268.2544\n",
      "clarity4:VS1.      -518.3221\n",
      "clarity5:VS2.      -804.9366\n",
      "clarity6:VVS1       109.2915\n",
      "\n",
      "Model Metrics\n",
      "Observations...........          53940\n",
      "Coefficients...........             24\n",
      "DF Error...............          53916\n",
      "R-Squared..............         0.8547\n",
      "Adj. R-Squared.........         0.8547\n",
      "Mean Absolute Error....      1105.8068\n",
      "Median Absolute Error..       906.6577\n",
      "Avg Squared Error......   2311976.2902\n",
      "Square Root ASE........      1520.5184\n",
      "Log(Likelihood)........   -471745.4939\n",
      "AIC            ........    943540.9879\n",
      "AICc           ........    943541.0120\n",
      "BIC            ........    943763.3786\n"
     ]
    }
   ],
   "source": [
    "# Fit linear model\n",
    "y = np.asarray(df['price'])\n",
    "X = np.asarray(encoded_df.drop('price', axis=1))\n",
    "lr = LinearRegression()\n",
    "lr.fit(X, y)\n",
    "\n",
    "# Model metrics\n",
    "col = []\n",
    "for i in range(len(rie.col)):\n",
    "    if rie.col[i] == 'price':\n",
    "        continue\n",
    "    col.append(rie.col[i])\n",
    "linreg.display_coef(lr, X, y, col)\n",
    "linreg.display_metrics(lr, X, y)\n"
   ]
  }
 ],
 "metadata": {
  "kernelspec": {
   "display_name": "Python 3",
   "language": "python",
   "name": "python3"
  },
  "language_info": {
   "codemirror_mode": {
    "name": "ipython",
    "version": 3
   },
   "file_extension": ".py",
   "mimetype": "text/x-python",
   "name": "python",
   "nbconvert_exporter": "python",
   "pygments_lexer": "ipython3",
   "version": "3.7.1"
  }
 },
 "nbformat": 4,
 "nbformat_minor": 2
}
