{
 "cells": [
  {
   "cell_type": "code",
   "execution_count": 2,
   "metadata": {},
   "outputs": [
    {
     "name": "stdout",
     "output_type": "stream",
     "text": [
      "Insert a number beteween 1 and 5\n",
      "5\n",
      "You are wrong, the correct answer is 4\n"
     ]
    }
   ],
   "source": [
    "print('Insert a number beteween 1 and 5')\n",
    "\n",
    "guess = eval(input());\n",
    "\n",
    "#guess = eval(input());\n",
    "\n",
    "import random\n",
    "ans = random.randint(1,5)\n",
    "\n",
    "\n",
    "if ans == guess:\n",
    "    print('You are right! The answer is', guess)\n",
    "else:\n",
    "    print('You are wrong, the correct answer is', ans)\n",
    "\n",
    "# should use random to be ans\n"
   ]
  },
  {
   "cell_type": "code",
   "execution_count": null,
   "metadata": {},
   "outputs": [],
   "source": []
  }
 ],
 "metadata": {
  "kernelspec": {
   "display_name": "Python 3",
   "language": "python",
   "name": "python3"
  },
  "language_info": {
   "codemirror_mode": {
    "name": "ipython",
    "version": 3
   },
   "file_extension": ".py",
   "mimetype": "text/x-python",
   "name": "python",
   "nbconvert_exporter": "python",
   "pygments_lexer": "ipython3",
   "version": "3.7.1"
  }
 },
 "nbformat": 4,
 "nbformat_minor": 2
}
