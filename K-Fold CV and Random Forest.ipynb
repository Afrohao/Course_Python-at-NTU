{
 "cells": [
  {
   "cell_type": "code",
   "execution_count": 2,
   "metadata": {},
   "outputs": [
    {
     "name": "stdout",
     "output_type": "stream",
     "text": [
      "\n",
      "********** Data Preprocessing ***********\n",
      "Features Dictionary Contains:\n",
      "11 Interval, \n",
      "0 Binary, \n",
      "1 Nominal, and \n",
      "1 Excluded Attribute(s).\n",
      "\n",
      "Data contains 4752 observations & 13 columns.\n",
      "\n",
      "\n",
      "Attribute Counts\n",
      ".................................. Missing  Outliers\n",
      "Log_Cum_Production...........         0         0\n",
      "Log_Proppant_LB..............         0         0\n",
      "Log_Carbonate................         0         0\n",
      "Log_Frac_Fluid_GL............         0         0\n",
      "Log_GrossPerforatedInterval..         0         0\n",
      "Log_LowerPerforation_xy......         0         0\n",
      "Log_UpperPerforation_xy......         0         0\n",
      "Log_TotalDepth...............         0         0\n",
      "N_Stages.....................         0         0\n",
      "X_Well.......................         0         0\n",
      "Y_Well.......................         0         0\n",
      "Operator.....................         0         0\n",
      "County.......................         0         0\n"
     ]
    }
   ],
   "source": [
    "from AdvancedAnalytics import DecisionTree\n",
    "from sklearn.ensemble import RandomForestRegressor\n",
    "from sklearn.tree import DecisionTreeRegressor\n",
    "from AdvancedAnalytics import ReplaceImputeEncode\n",
    "from sklearn.model_selection import cross_validate\n",
    "from sklearn.model_selection import train_test_split\n",
    "import pandas as pd\n",
    "import numpy as np\n",
    "import math\n",
    "\n",
    "df = pd.read_excel(\"OilProduction.xlsx\")\n",
    "\n",
    "# Data map\n",
    "attribute_map = {\n",
    "    'Log_Cum_Production': ['I', (8.2986, 14.8829)] ,\n",
    "    'Log_Proppant_LB': ['I', (5.8099, 18.489)] ,\n",
    "    'Log_Carbonate': ['I', (-4.4818, 4.2774)] ,\n",
    "    'Log_Frac_Fluid_GL': ['I', (7.324, 18.2703)] ,\n",
    "    'Log_GrossPerforatedInterval': ['I', (4.1052, 9.2948)] ,\n",
    "    'Log_LowerPerforation_xy': ['I', (8.0092, 10.1187)] ,\n",
    "    'Log_UpperPerforation_xy': ['I', (7.6803, 9.8801)] ,\n",
    "    'Log_TotalDepth': ['I', (8.0755, 10.1387)] ,\n",
    "    'N_Stages': ['I', (1.5, 14.5)] ,\n",
    "    'X_Well': ['I', (-99.0066, -96.5224)] ,\n",
    "    'Y_Well': ['I', (31.3825, 33.9047)] ,\n",
    "    'Operator': ['Z', (1, 28)] ,\n",
    "    'County': ['N', (1,2,3,4,5,6,7,8,9,10,11,12,13,14)] }\n",
    "\n",
    "# Data preprocessing\n",
    "rie = ReplaceImputeEncode(data_map=attribute_map, interval_scale='std', drop=False, display=True)\n",
    "encoded_df = rie.fit_transform(df)\n",
    "varlist = ['Log_Cum_Production']\n",
    "X = encoded_df.drop(varlist, axis=1)\n",
    "y = encoded_df[varlist]\n",
    "np_y = np.ravel(y) \n",
    "col = rie.col\n",
    "col.remove('Log_Cum_Production')"
   ]
  },
  {
   "cell_type": "code",
   "execution_count": 3,
   "metadata": {},
   "outputs": [
    {
     "name": "stdout",
     "output_type": "stream",
     "text": [
      "\n",
      "Max_Depth:  3\n",
      "Metric.......  Mean    Std. Dev.\n",
      "MSE.......... 0.6365    0.0389\n",
      "MAE.......... 0.6112    0.0166\n",
      "\n",
      "Max_Depth:  4\n",
      "Metric.......  Mean    Std. Dev.\n",
      "MSE.......... 0.6046    0.0338\n",
      "MAE.......... 0.5923    0.0140\n",
      "\n",
      "Max_Depth:  5\n",
      "Metric.......  Mean    Std. Dev.\n",
      "MSE.......... 0.5838    0.0408\n",
      "MAE.......... 0.5774    0.0162\n",
      "\n",
      "Max_Depth:  6\n",
      "Metric.......  Mean    Std. Dev.\n",
      "MSE.......... 0.5812    0.0316\n",
      "MAE.......... 0.5742    0.0161\n",
      "\n",
      "Max_Depth:  7\n",
      "Metric.......  Mean    Std. Dev.\n",
      "MSE.......... 0.5864    0.0369\n",
      "MAE.......... 0.5690    0.0161\n",
      "\n",
      "Max_Depth:  8\n",
      "Metric.......  Mean    Std. Dev.\n",
      "MSE.......... 0.6250    0.0371\n",
      "MAE.......... 0.5836    0.0166\n",
      "\n",
      "Max_Depth:  9\n",
      "Metric.......  Mean    Std. Dev.\n",
      "MSE.......... 0.6733    0.0567\n",
      "MAE.......... 0.5948    0.0220\n",
      "\n",
      "Max_Depth:  10\n",
      "Metric.......  Mean    Std. Dev.\n",
      "MSE.......... 0.7007    0.0558\n",
      "MAE.......... 0.6062    0.0215\n",
      "\n",
      "Max_Depth:  11\n",
      "Metric.......  Mean    Std. Dev.\n",
      "MSE.......... 0.7552    0.0906\n",
      "MAE.......... 0.6214    0.0240\n",
      "\n",
      "Max_Depth:  12\n",
      "Metric.......  Mean    Std. Dev.\n",
      "MSE.......... 0.7680    0.0678\n",
      "MAE.......... 0.6313    0.0182\n",
      "\n",
      "Max_Depth:  13\n",
      "Metric.......  Mean    Std. Dev.\n",
      "MSE.......... 0.7821    0.0448\n",
      "MAE.......... 0.6417    0.0136\n",
      "\n",
      "Max_Depth:  14\n",
      "Metric.......  Mean    Std. Dev.\n",
      "MSE.......... 0.8136    0.0813\n",
      "MAE.......... 0.6506    0.0182\n",
      "\n",
      "Max_Depth:  15\n",
      "Metric.......  Mean    Std. Dev.\n",
      "MSE.......... 0.8414    0.0489\n",
      "MAE.......... 0.6634    0.0109\n",
      "Best Depth (trees) =  6\n",
      "\n",
      "Model Metrics.........  Training     Validation\n",
      "Observations...........     3326           1426\n",
      "Split Criterion........      mse            mse\n",
      "Max Depth..............        6              6\n",
      "Minimum Split Size.....        2              2\n",
      "Minimum Leaf  Size.....        1              1\n",
      "R-Squared..............   0.5551         0.3958\n",
      "Mean Absolute Error....   0.5082         0.5866\n",
      "Median Absolute Error..   0.4063         0.4598\n",
      "Avg Squared Error......   0.4385         0.6243\n",
      "Square Root ASE........   0.6622         0.7901\n",
      "\n",
      "FEATURE........................ IMPORTANCE\n",
      "X_Well.........................   0.5029\n",
      "Y_Well.........................   0.1583\n",
      "Log_Proppant_LB................   0.1288\n",
      "Log_Frac_Fluid_GL..............   0.1147\n",
      "Log_LowerPerforation_xy........   0.0487\n",
      "Log_UpperPerforation_xy........   0.0222\n",
      "Log_GrossPerforatedInterval....   0.0173\n",
      "N_Stages.......................   0.0043\n",
      "Log_Carbonate..................   0.0029\n",
      "Log_TotalDepth.................   0.0000\n",
      "County.........................   0.0000\n",
      "\n",
      "\n",
      "Feature Importances:\n"
     ]
    },
    {
     "data": {
      "text/plain": [
       "<Figure size 432x288 with 0 Axes>"
      ]
     },
     "metadata": {},
     "output_type": "display_data"
    },
    {
     "data": {
      "image/png": "[encoded data removed]",
      "text/plain": [
       "<Figure size 576x720 with 1 Axes>"
      ]
     },
     "metadata": {
      "needs_background": "light"
     },
     "output_type": "display_data"
    },
    {
     "data": {
      "text/plain": [
       "<Figure size 432x288 with 0 Axes>"
      ]
     },
     "metadata": {},
     "output_type": "display_data"
    }
   ],
   "source": [
    "max_depth_list = [3, 4, 5, 6, 7, 8, 9, 10, 11, 12, 13, 14, 15]\n",
    "score_list = ['neg_mean_squared_error', 'neg_mean_absolute_error']\n",
    "score_names = ['MSE', 'MAE']\n",
    "min_mse = 1e64\n",
    "for d in max_depth_list:\n",
    "    print(\"\\nMax_Depth: \", d)\n",
    "    dtr = DecisionTreeRegressor(max_depth=d)\n",
    "    dtr = dtr.fit(X, np_y)\n",
    "    scores = cross_validate(dtr, X, np_y, scoring=score_list, \\\n",
    "    return_train_score=False, cv=4)\n",
    "    print(\"{:.<13s}{:>6s}{:>13s}\".format(\"Metric\", \"Mean\", \"Std. Dev.\"))\n",
    "    i=0\n",
    "    for s in score_list:\n",
    "        var = \"test_\"+s\n",
    "        mean = math.fabs(scores[var].mean())\n",
    "        std = scores[var].std()\n",
    "        label = score_names[i]\n",
    "        i += 1\n",
    "        print(\"{:.<13s}{:>7.4f}{:>10.4f}\".format(label, mean, std))\n",
    "        if label == 'MSE' and mean < min_mse:\n",
    "            min_mse = mean\n",
    "            best_depth = d\n",
    "print(\"Best Depth (trees) = \", best_depth)\n",
    "\n",
    "# Hold out validation\n",
    "X_train, X_validate, y_train, y_validate = train_test_split(X, np_y,test_size = 0.3, random_state=12345)\n",
    "dtr = DecisionTreeRegressor(max_depth=best_depth)\n",
    "dtr = dtr.fit(X_train, y_train)\n",
    "DecisionTree.display_split_metrics(dtr, X_train, y_train, X_validate, y_validate)\n",
    "DecisionTree.display_importance(dtr, col, plot=True)"
   ]
  },
  {
   "cell_type": "code",
   "execution_count": 4,
   "metadata": {},
   "outputs": [
    {
     "name": "stdout",
     "output_type": "stream",
     "text": [
      "\n",
      "Model Metrics\n",
      "Observations...........     4752\n",
      "Split Criterion........      mse\n",
      "Max Depth..............     None\n",
      "Minimum Split Size.....        2\n",
      "Minimum Leaf  Size.....        1\n",
      "R-Squared..............   0.9104\n",
      "Mean Absolute Error....   0.2108\n",
      "Median Absolute Error..   0.1486\n",
      "Avg Squared Error......   0.0896\n",
      "Square Root ASE........   0.2994\n",
      "\n",
      "FEATURE........................ IMPORTANCE\n",
      "X_Well.........................   0.3366\n",
      "Y_Well.........................   0.1490\n",
      "Log_Frac_Fluid_GL..............   0.1343\n",
      "Log_Proppant_LB................   0.0966\n",
      "Log_LowerPerforation_xy........   0.0764\n",
      "Log_UpperPerforation_xy........   0.0495\n",
      "Log_GrossPerforatedInterval....   0.0426\n",
      "Log_Carbonate..................   0.0422\n",
      "Log_TotalDepth.................   0.0368\n",
      "N_Stages.......................   0.0241\n",
      "County.........................   0.0119\n",
      "\n"
     ]
    }
   ],
   "source": [
    "# Random Forest\n",
    "rfr = RandomForestRegressor(n_estimators=10, criterion='mse', random_state=12345)\n",
    "rfr = rfr.fit(X, np_y)\n",
    "DecisionTree.display_metrics(rfr, X, np_y)\n",
    "DecisionTree.display_importance(rfr, col)"
   ]
  },
  {
   "cell_type": "markdown",
   "metadata": {},
   "source": [
    "Random Forest is better than tree as the ASE is much lower than tree."
   ]
  }
 ],
 "metadata": {
  "kernelspec": {
   "display_name": "Python 3",
   "language": "python",
   "name": "python3"
  },
  "language_info": {
   "codemirror_mode": {
    "name": "ipython",
    "version": 3
   },
   "file_extension": ".py",
   "mimetype": "text/x-python",
   "name": "python",
   "nbconvert_exporter": "python",
   "pygments_lexer": "ipython3",
   "version": "3.7.1"
  }
 },
 "nbformat": 4,
 "nbformat_minor": 2
}
