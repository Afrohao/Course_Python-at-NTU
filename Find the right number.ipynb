{
 "cells": [
  {
   "cell_type": "code",
   "execution_count": 3,
   "metadata": {},
   "outputs": [
    {
     "name": "stdout",
     "output_type": "stream",
     "text": [
      "1 < ? < 100\n",
      "50\n",
      "wrong answer, guess larger\n",
      "50 < ? < 100\n",
      "75\n",
      "wrong answer, guess smaller\n",
      "50 < ? < 75\n",
      "57\n",
      "wrong answer, guess smaller\n",
      "50 < ? < 57\n",
      "54\n",
      "wrong answer, guess smaller\n",
      "50 < ? < 54\n",
      "52\n",
      "bingo answer is 52\n"
     ]
    }
   ],
   "source": [
    "\n",
    "\n",
    "\n",
    "#ans = int(input())\n",
    "print('1 < ? < 100')\n",
    "n = int(input())\n",
    "\n",
    "import random\n",
    "ans = random.randint(1,100)\n",
    "\n",
    "Max_num = 100\n",
    "Min_num = 1\n",
    "\n",
    "while n != ans:\n",
    "   \n",
    "    if n>ans:\n",
    "            Max_num = n\n",
    "            #print(Max_num)\n",
    "            print('wrong answer, guess smaller')\n",
    "            print(Min_num,'< ? <', Max_num)\n",
    " \n",
    "    elif n<ans:\n",
    "            Min_num = n\n",
    "            #print(Min_num)\n",
    "            print('wrong answer, guess larger')\n",
    "            print(Min_num,'< ? <', Max_num)\n",
    "\n",
    "    n = int(input())\n",
    "else:\n",
    "    print('bingo answer is', ans)\n",
    "    \n"
   ]
  }
 ],
 "metadata": {
  "kernelspec": {
   "display_name": "Python 3",
   "language": "python",
   "name": "python3"
  },
  "language_info": {
   "codemirror_mode": {
    "name": "ipython",
    "version": 3
   },
   "file_extension": ".py",
   "mimetype": "text/x-python",
   "name": "python",
   "nbconvert_exporter": "python",
   "pygments_lexer": "ipython3",
   "version": "3.7.1"
  }
 },
 "nbformat": 4,
 "nbformat_minor": 2
}
