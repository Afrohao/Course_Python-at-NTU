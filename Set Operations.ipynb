{
 "cells": [
  {
   "cell_type": "code",
   "execution_count": 3,
   "metadata": {},
   "outputs": [
    {
     "name": "stdout",
     "output_type": "stream",
     "text": [
      "Those who pass the math test but not pass the English test: \n",
      "['光彦', '美環']\n",
      "Those who pass the English test but not pass the math test: \n",
      "['丸尾', '野口']\n",
      "Those who pass the both tests: \n",
      "['柯南', '步美', '灰原']\n"
     ]
    }
   ],
   "source": [
    "Math_pass={'柯南','灰原','步美','美環','光彦'}\n",
    "Eng_pass={'柯南','灰原','丸尾','野口','步美'}\n",
    "\n",
    "print('Those who pass the math test but not pass the English test: ')\n",
    "#math pass but not English\n",
    "Mp1=Math_pass.union(Eng_pass)\n",
    "Mp2=list(Mp1.difference(Eng_pass))\n",
    "Mp2.sort()\n",
    "print(Mp2)\n",
    "\n",
    "print('Those who pass the English test but not pass the math test: ')\n",
    "#English pass but not math\n",
    "Eg1=Math_pass.union(Eng_pass)\n",
    "Eg2=list(Eg1.difference(Math_pass))\n",
    "Eg2.sort()\n",
    "print(Eg2)\n",
    "\n",
    "print('Those who pass the both tests: ')\n",
    "#math and English all pass\n",
    "EM=list(Math_pass.intersection(Eng_pass))\n",
    "EM.sort()\n",
    "print(EM)\n"
   ]
  },
  {
   "cell_type": "code",
   "execution_count": null,
   "metadata": {},
   "outputs": [],
   "source": []
  }
 ],
 "metadata": {
  "kernelspec": {
   "display_name": "Python 3",
   "language": "python",
   "name": "python3"
  },
  "language_info": {
   "codemirror_mode": {
    "name": "ipython",
    "version": 3
   },
   "file_extension": ".py",
   "mimetype": "text/x-python",
   "name": "python",
   "nbconvert_exporter": "python",
   "pygments_lexer": "ipython3",
   "version": "3.7.1"
  }
 },
 "nbformat": 4,
 "nbformat_minor": 2
}
