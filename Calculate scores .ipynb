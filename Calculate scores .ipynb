{
 "cells": [
  {
   "cell_type": "code",
   "execution_count": 3,
   "metadata": {},
   "outputs": [
    {
     "name": "stdout",
     "output_type": "stream",
     "text": [
      "Please enter into the student's score: \n",
      "92\n",
      "Please enter into the student's score: \n",
      "87\n",
      "Please enter into the student's score: \n",
      "73\n",
      "Please enter into the student's score: \n",
      "86.75\n",
      "Please enter into the student's score: \n",
      "94.2\n",
      "student 1\n",
      " 1: 92\n",
      " sum: 92\n",
      " avg: 92.00\n",
      "student 2\n",
      " 1: 87\n",
      " sum: 87\n",
      " avg: 87.00\n",
      "student 3\n",
      " 1: 73\n",
      " sum: 73\n",
      " avg: 73.00\n",
      "student 4\n",
      " 1: 86\n",
      " sum: 86.75\n",
      " avg: 86.75\n",
      "student 5\n",
      " 1: 94\n",
      " sum: 94.2\n",
      " avg: 94.20\n",
      "total: 432, avg: 86.59\n",
      "highest score: student 5: 94.20\n"
     ]
    }
   ],
   "source": [
    "\n",
    "def avg(lst):\n",
    "    return sum(lst)/len(lst)\n",
    "\n",
    "score = [] \n",
    "for t in range(5): #could input 5 groups of scores\n",
    "    print(\"Please enter into the student's score: \")\n",
    "    a = input()\n",
    "    a = a.split()\n",
    "    for i in range(len(a)):\n",
    "        a[i] = eval(a[i])\n",
    "    score.append(a)\n",
    "#print(score)\n",
    "\n",
    "'''for m in score:\n",
    "    print(*m)'''\n",
    "\n",
    "total = 0\n",
    "for m in range(len(score)):\n",
    "    print(\"student\", m+1)\n",
    "    for j in range(len(score[m])):\n",
    "        print(\" %d: %d\"%(j+1, score[m][j]))\n",
    "    total += sum(score[m])\n",
    "    print(\" sum:\", sum(score[m]))\n",
    "    print(\" avg: %.2f\"%avg(score[m]))\n",
    "\n",
    "total_avg = 0   \n",
    "for r in range(len(score)):\n",
    "    total_avg += avg(score[r])\n",
    "total_avg2 = total_avg/len(score)\n",
    "print(\"total: %d,\"%(total),\"avg: %.2f\"%total_avg2)\n",
    "\n",
    "y = avg(max(score))\n",
    "q = score.index(max(score))\n",
    "print(\"highest score: student %d:\"%(q+1),\"%.2f\"%(y))    \n",
    "\n",
    "\n",
    "\n"
   ]
  }
 ],
 "metadata": {
  "kernelspec": {
   "display_name": "Python 3",
   "language": "python",
   "name": "python3"
  },
  "language_info": {
   "codemirror_mode": {
    "name": "ipython",
    "version": 3
   },
   "file_extension": ".py",
   "mimetype": "text/x-python",
   "name": "python",
   "nbconvert_exporter": "python",
   "pygments_lexer": "ipython3",
   "version": "3.7.1"
  }
 },
 "nbformat": 4,
 "nbformat_minor": 2
}
