{
 "cells": [
  {
   "cell_type": "code",
   "execution_count": 9,
   "metadata": {},
   "outputs": [
    {
     "name": "stdout",
     "output_type": "stream",
     "text": [
      "Enter a number, it will show the all primes that are smaller than the number.\n",
      "1\n",
      "1 is not a prime number.\n"
     ]
    }
   ],
   "source": [
    "\n",
    "print('Enter a number, it will show the all primes that are smaller than the number.')\n",
    "\n",
    "n = eval(input())\n",
    "import math\n",
    "#m = int(math.sqrt(n))\n",
    "#print(m)\n",
    "\n",
    "if n ==2:\n",
    "    print(n,'is a prime number.')\n",
    "elif n == 3:\n",
    "    print(n-1,'is a prime number.')\n",
    "    print(n,'is a prime number.')\n",
    "elif n == 1:\n",
    "    print('1 is not a prime number.')\n",
    "else:\n",
    "    print('2 is a prime number.')\n",
    "    print('3 is a prime number.')\n",
    "\n",
    "    for i in range(2,n+1):\n",
    "        p = int(math.sqrt(i))+1\n",
    "        # in case for 2\n",
    "        for s in range(2,p):\n",
    "            if(i % s == 0): # is i is not prime\n",
    "                break\n",
    "            elif(s==p-1):\n",
    "                print(i,'is a prime number.')\n",
    "\n",
    "            "
   ]
  }
 ],
 "metadata": {
  "kernelspec": {
   "display_name": "Python 3",
   "language": "python",
   "name": "python3"
  },
  "language_info": {
   "codemirror_mode": {
    "name": "ipython",
    "version": 3
   },
   "file_extension": ".py",
   "mimetype": "text/x-python",
   "name": "python",
   "nbconvert_exporter": "python",
   "pygments_lexer": "ipython3",
   "version": "3.7.1"
  }
 },
 "nbformat": 4,
 "nbformat_minor": 2
}
